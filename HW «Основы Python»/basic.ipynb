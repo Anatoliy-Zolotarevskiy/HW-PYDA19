{
 "cells": [
  {
   "cell_type": "markdown",
   "metadata": {},
   "source": [
    "Домашнее задание к лекции \"Основы Python\"\n"
   ]
  },
  {
   "cell_type": "markdown",
   "metadata": {},
   "source": [
    "Задание 1\n",
    "Даны 2 переменных, в которых хранятся строки произвольной длины: phrase_1 и phrase_2.\n",
    "Напишите код, который проверяет какая из этих строк длиннее."
   ]
  },
  {
   "cell_type": "code",
   "execution_count": null,
   "metadata": {},
   "outputs": [],
   "source": [
    "phrase_1 = input(\"Введите фразу 1:\")\n",
    "phrase_2 = input(\"Введите фразу 2:\")\n",
    "if len(phrase_1) > len(phrase_2):\n",
    "    print(\"фраза 1 длиннее фразы 2\")\n",
    "elif len(phrase_1) < len(phrase_2):\n",
    "    print(\"фраза 2 длиннее фразы 1\")\n",
    "else :\n",
    "    print(\"фразы равной длины\")"
   ]
  },
  {
   "cell_type": "markdown",
   "metadata": {},
   "source": [
    "Задание 2\n",
    "Дана переменная, в которой хранится четырехзначное число (год). Необходимо написать программу, которая выведет, является ли данный год високосным или обычным."
   ]
  },
  {
   "cell_type": "code",
   "execution_count": null,
   "metadata": {},
   "outputs": [],
   "source": [
    "year = input(\"Введите год:\")\n",
    "print(\"Результат:\")\n",
    "if int(year) % 4 == 0 :\n",
    "    print(\"Високосный год\")\n",
    "else :\n",
    "    print(\"Обычный год\")"
   ]
  },
  {
   "cell_type": "markdown",
   "metadata": {},
   "source": [
    "Задание 3\n",
    "Необходимо написать программу, которая будет запрашивать у пользователя месяц и дату рождения и выводить соответствующий знак зодиака.\n"
   ]
  },
  {
   "cell_type": "code",
   "execution_count": null,
   "metadata": {},
   "outputs": [],
   "source": [
    "date = input(\"Введите день:\")\n",
    "month = input(\"введите месяц:\")\n",
    "months = dict(январь=1, февраль=2, март=3, апрель=4, май=5, июнь=6, июль=7, август=8, сентябрь=9, октябрь=10, ноябрь=11, декабрь=12)\n",
    "print(\"Результат:\")\n",
    "#print(int(date))\n",
    "#print(months[month])\n",
    "if (int(date) >=21 and months[month] == 3) or (int(date) <= 21 and months[month] == 4) : \n",
    "    print(\"Ваш знак зодиака: Овен\")\n",
    "\n",
    "# позже начал курс, пытаюсь догнать. дальше механикой не буду заниматься , для других знаков по аналогии...\n",
    "# наверняка можно использовать какие-то методы и сделать все проще, надеюсь покажите на курсе ))\n"
   ]
  },
  {
   "cell_type": "code",
   "execution_count": null,
   "metadata": {},
   "outputs": [],
   "source": [
    "Задание 4\n",
    "Вам нужно написать программу для подбора упаковок по размерам товара. Размеры (ширина, длина, высота) хранятся в переменных (в сантиметрах):\n",
    "\n",
    "Используйте следующие правила:\n",
    "\n",
    "если каждое из трех измерений менее 15 сантиметров, то выведите на экран \"Коробка №1\";\n",
    "если хотя бы одно из измерений больше 15 сантиметров, но менее 50 сантиметров, то выводите \"Коробка №2\";\n",
    "если длина товара больше 2 метров, то выводите \"Упаковка для лыж\";\n",
    "во всех остальных случаях выводите \"Стандартная коробка №3\"."
   ]
  },
  {
   "cell_type": "code",
   "execution_count": 11,
   "metadata": {},
   "outputs": [
    {
     "name": "stdout",
     "output_type": "stream",
     "text": [
      "width =1\n",
      "length =1\n",
      "height =1\n",
      "Результат:\n",
      "Коробка №1\n"
     ]
    }
   ],
   "source": [
    "width = input(\"width =\")\n",
    "length = input(\"length =\")\n",
    "height = input(\"height =\")\n",
    "print(\"Результат:\")\n",
    "\n",
    "if int(width) < 15 and int(length) < 15 and int(height) < 15:\n",
    "    print(\"Коробка №1\")\n",
    "elif (int(width) > 15 or int(length) > 15 or int(height) > 15) and (int(width) < 50 and int(length) < 50 and int(height) < 50): \n",
    "    print(\"Коробка №2\")\n",
    "elif int(length) > 200:\n",
    "        print(\"Упаковка для лыж\")\n",
    "else:\n",
    "    print(\"Стандартная коробка №3\")\n",
    "    "
   ]
  },
  {
   "cell_type": "code",
   "execution_count": null,
   "metadata": {},
   "outputs": [],
   "source": [
    "# как скачать файл для юпитера, который по ссылке в Вашем гите? Я скачал через контекстное меню (правая кнопка) вроде сохранил,\n",
    "# но он в юпитере не открывается , ошибка :\n",
    "# \"Error loading notebook\n",
    "#Unreadable Notebook: C:\\Users\\User\\Desktop\\PYDA\\HW PYDA 19\\HW «Основы Python»\\python_basics.ipynb NotJSONError(\"Notebook does not appear to be JSON: '\\\\n\\\\n\\\\n\\\\n\\\\n\\\\n<!DOCTYPE html>\\\\n<html lang...\")\""
   ]
  },
  {
   "cell_type": "code",
   "execution_count": null,
   "metadata": {},
   "outputs": [],
   "source": []
  }
 ],
 "metadata": {
  "kernelspec": {
   "display_name": "Python 3",
   "language": "python",
   "name": "python3"
  },
  "language_info": {
   "codemirror_mode": {
    "name": "ipython",
    "version": 3
   },
   "file_extension": ".py",
   "mimetype": "text/x-python",
   "name": "python",
   "nbconvert_exporter": "python",
   "pygments_lexer": "ipython3",
   "version": "3.7.3"
  }
 },
 "nbformat": 4,
 "nbformat_minor": 2
}
